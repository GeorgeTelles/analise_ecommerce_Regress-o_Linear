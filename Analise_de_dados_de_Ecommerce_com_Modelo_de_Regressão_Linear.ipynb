{
  "cells": [
    {
      "cell_type": "markdown",
      "metadata": {
        "id": "view-in-github",
        "colab_type": "text"
      },
      "source": [
        "<a href=\"https://colab.research.google.com/github/GeorgeTelles/analise_ecommerce_Regress-o_Linear/blob/main/Analise_de_dados_de_Ecommerce_com_Modelo_de_Regress%C3%A3o_Linear.ipynb\" target=\"_parent\"><img src=\"https://colab.research.google.com/assets/colab-badge.svg\" alt=\"Open In Colab\"/></a>"
      ]
    },
    {
      "cell_type": "markdown",
      "metadata": {
        "id": "0QNhrgmyvJ3l"
      },
      "source": [
        "<div>\n",
        "  <img src=\"https://raw.githubusercontent.com/GeorgeTelles/georgetelles/f69531ec6b293b5148563588a764c010015d315e/logo_clara.png\" alt=\"logo clara\" width=\"300\" style=\"display: inline-block; vertical-align: top; margin-right: 10px;\">\n",
        "  <img src=\"https://raw.githubusercontent.com/GeorgeTelles/georgetelles/f69531ec6b293b5148563588a764c010015d315e/logo_dark.png\" alt=\"logo dark\" width=\"300\" style=\"display: inline-block; vertical-align: top;\">\n",
        "</div>"
      ]
    },
    {
      "cell_type": "markdown",
      "metadata": {
        "id": "8OfWbdXUvJ3n"
      },
      "source": [
        "# Analise de dados de um Ecommerce com o Modelo de Regressão Linear\n",
        "\n",
        "Case: Um ecommerce com sede na cidade de Nova York que vende roupas, presta sessões de consultoria em estilo e vestuário na loja. Os clientes entram na loja, têm sessões / reuniões com um estilista pessoal, então podem ir para casa e encomendar via app ou site a roupa que desejam.\n",
        "\n",
        "A empresa está tentando decidir se deve concentrar seus esforços em apps ou em seu site.\n"
      ]
    },
    {
      "cell_type": "markdown",
      "metadata": {
        "id": "pAE_6d5xvJ3n"
      },
      "source": [
        "## Importando Bibliotecas e Módulos"
      ]
    },
    {
      "cell_type": "code",
      "execution_count": null,
      "metadata": {
        "tags": [],
        "id": "vrdZfwOzvJ3o"
      },
      "outputs": [],
      "source": [
        "import pandas as pd\n",
        "import numpy as np\n",
        "import matplotlib.pyplot as plt\n",
        "import seaborn as sns\n",
        "from sklearn.model_selection import train_test_split\n",
        "from sklearn.linear_model import LinearRegression\n",
        "from sklearn import metrics"
      ]
    },
    {
      "cell_type": "markdown",
      "metadata": {
        "id": "d1q9fCm_vJ3p"
      },
      "source": [
        "## Obtendo dados\n",
        "\n",
        "O arquivo csv do Ecommerce Customers da empresa possui diversas informações do cliente, como Email, Endereço, cor do Avatar e colunas de valores numéricos que vou detalhar abaixo:\n",
        "\n",
        "* Avg. Session Length: Tempo médio das sessões de consultoria de estilo na loja.\n",
        "* Time on App: tempo médio gasto no app em minutos.\n",
        "* Time on Website: tempo médio gasto no site em minutos.\n",
        "* Lenght of Membership: Há quantos anos o cliente é membro."
      ]
    },
    {
      "cell_type": "code",
      "execution_count": null,
      "metadata": {
        "tags": [],
        "id": "4UG5hQbcvJ3p"
      },
      "outputs": [],
      "source": [
        "clientes = pd.read_csv(\"https://raw.githubusercontent.com/GeorgeTelles/analise_ecommerce_Regress-o_Linear/2c011ea1a60d2bba160c097f75787a07e19d51b8/Ecommerce%20Customers\")"
      ]
    },
    {
      "cell_type": "markdown",
      "metadata": {
        "id": "rZVLBt9AvJ3p"
      },
      "source": [
        "## Exploração dos dados"
      ]
    },
    {
      "cell_type": "code",
      "execution_count": null,
      "metadata": {
        "id": "_XX_xYNbvJ3p"
      },
      "outputs": [],
      "source": [
        "clientes.head()\n"
      ]
    },
    {
      "cell_type": "code",
      "execution_count": null,
      "metadata": {
        "id": "z_zwTUKUvJ3q"
      },
      "outputs": [],
      "source": [
        "clientes.describe()"
      ]
    },
    {
      "cell_type": "code",
      "execution_count": null,
      "metadata": {
        "id": "9v0bGqjovJ3q"
      },
      "outputs": [],
      "source": [
        "clientes.info()"
      ]
    },
    {
      "cell_type": "markdown",
      "metadata": {
        "id": "9brgusDUvJ3q"
      },
      "source": [
        "# Visualizar os dados"
      ]
    },
    {
      "cell_type": "code",
      "execution_count": null,
      "metadata": {
        "tags": [],
        "id": "twapJfUuvJ3q"
      },
      "outputs": [],
      "source": [
        "sns.set_palette(\"GnBu_d\")\n",
        "sns.set_style('whitegrid')\n",
        "sns.pairplot(data=clientes)"
      ]
    },
    {
      "cell_type": "markdown",
      "metadata": {
        "id": "4haCBC4cvJ3r"
      },
      "source": [
        "**Baseado nos plots o que parece ser a característica mais correlacionada com o valor anual gasto (Yearly Amount Spent) é o tempo como membro. Ou seja quanto maior o tempo como Membro, mais dinheiro gasto.**"
      ]
    },
    {
      "cell_type": "code",
      "execution_count": null,
      "metadata": {
        "id": "R9eazz2cvJ3r"
      },
      "outputs": [],
      "source": [
        "sns.lmplot(x='Length of Membership',y='Yearly Amount Spent',data=clientes)"
      ]
    },
    {
      "cell_type": "markdown",
      "metadata": {
        "id": "l5___YVwvJ3r"
      },
      "source": [
        "## Preparando os dados para o Modelo\n",
        "\n",
        "Vou explora um pouco os dados e dividir em conjuntos de treinamento e teste.\n",
        "Variável X igual a todas as características numéricas dos clientes e Variável y igual à coluna Valor anual gasto (Yearly Amount Spent)."
      ]
    },
    {
      "cell_type": "code",
      "execution_count": null,
      "metadata": {
        "tags": [],
        "id": "DWxgyGNyvJ3r"
      },
      "outputs": [],
      "source": [
        "y = clientes['Yearly Amount Spent']\n",
        "X = clientes[['Avg. Session Length', 'Time on App','Time on Website', 'Length of Membership']]"
      ]
    },
    {
      "cell_type": "markdown",
      "metadata": {
        "id": "jn0fnoSwvJ3r"
      },
      "source": [
        "Usei model_selection.train_test_split da sklearn para dividir os dados em conjuntos de treinamento e teste."
      ]
    },
    {
      "cell_type": "code",
      "execution_count": null,
      "metadata": {
        "tags": [],
        "id": "w30TTX9DvJ3r"
      },
      "outputs": [],
      "source": [
        "X_train, X_test, y_train, y_test = train_test_split(X, y, test_size=0.3, random_state=101)"
      ]
    },
    {
      "cell_type": "markdown",
      "metadata": {
        "id": "Vb7D8gxsvJ3r"
      },
      "source": [
        "## Treinando o modelo\n",
        "\n",
        "Agora vou treinar o modelo com os dados de treinamento!"
      ]
    },
    {
      "cell_type": "code",
      "execution_count": null,
      "metadata": {
        "tags": [],
        "id": "v2v3BUPCvJ3s"
      },
      "outputs": [],
      "source": [
        "lm = LinearRegression()\n",
        "lm.fit(X_train,y_train)\n",
        "pass"
      ]
    },
    {
      "cell_type": "markdown",
      "metadata": {
        "id": "ieK9UWLtvJ3s"
      },
      "source": [
        "**Coeficientes do modelo**"
      ]
    },
    {
      "cell_type": "code",
      "execution_count": null,
      "metadata": {
        "id": "aq4gIH7wvJ3s"
      },
      "outputs": [],
      "source": [
        "coefficients = lm.coef_\n",
        "coef_df = pd.DataFrame(coefficients, index=X.columns, columns=['Coefficient'])\n",
        "\n",
        "print(coef_df)"
      ]
    },
    {
      "cell_type": "markdown",
      "metadata": {
        "id": "gDmPUC3EvJ3s"
      },
      "source": [
        "**Novamente confirmando que a variavel que mais importa é o \"Tempo como Membro\"**"
      ]
    },
    {
      "cell_type": "markdown",
      "metadata": {
        "id": "psAmcksZvJ3s"
      },
      "source": [
        "## Dados de previsão"
      ]
    },
    {
      "cell_type": "code",
      "execution_count": null,
      "metadata": {
        "tags": [],
        "id": "0MlK05rivJ3s"
      },
      "outputs": [],
      "source": [
        "predictions = lm.predict( X_test)"
      ]
    },
    {
      "cell_type": "markdown",
      "metadata": {
        "id": "eb_nz0HdvJ3s"
      },
      "source": [
        "## Avaliando o Modelo"
      ]
    },
    {
      "cell_type": "markdown",
      "metadata": {
        "id": "o9KvutxCvJ3s"
      },
      "source": [
        "## Métricas de avaliação de regressão\n",
        "\n",
        "\n",
        "Aqui estão três métricas de avaliação comuns para problemas de regressão:\n",
        "\n",
        "**Mean absolute error ** (erro absoluto médio) (MAE) é a média do valor absoluto dos erros:\n",
        "\n",
        "$$\\frac 1n\\sum_{i=1}^n|y_i-\\hat{y}_i|$$\n",
        "\n",
        "** Mean Squared Error ** (erro médio quadrático) (MSE) é a média dos erros quadrados:\n",
        "\n",
        "$$\\frac 1n\\sum_{i=1}^n(y_i-\\hat{y}_i)^2$$\n",
        "\n",
        "** Root Mean Square Error ** (raiz do erro quadrático médio) (RMSE) é a raiz quadrada da média dos erros quadrados:\n",
        "\n",
        "$$\\sqrt{\\frac 1n\\sum_{i=1}^n(y_i-\\hat{y}_i)^2}$$\n",
        "\n",
        "Comparando estas métricas:\n",
        "\n",
        "- **MAE** é o mais fácil de entender, porque é o erro médio.\n",
        "- **MSE** é mais popular que o MAE, porque a MSE \"puniria\" erros maiores, o que tende a ser útil no mundo real.\n",
        "- **RMSE** é ainda mais popular do que MSE, porque o RMSE é interpretável nas unidades \"y\".\n",
        "\n",
        "Todas estas são ** funções de perda **, porque queremos minimizá-las."
      ]
    },
    {
      "cell_type": "code",
      "execution_count": null,
      "metadata": {
        "id": "Ax4-RWhpvJ3s"
      },
      "outputs": [],
      "source": [
        "print('MAE:', metrics.mean_absolute_error(y_test, predictions))\n",
        "print('MSE:', metrics.mean_squared_error(y_test, predictions))\n",
        "print('RMSE:', np.sqrt(metrics.mean_squared_error(y_test, predictions)))"
      ]
    },
    {
      "cell_type": "markdown",
      "metadata": {
        "id": "c4k4NhihvJ3t"
      },
      "source": [
        "## Resíduos\n",
        "\n",
        "Vou explorar os resíduos para ver se ele tem uma distribuição normal para garantir que tudo esteja bem com os dados."
      ]
    },
    {
      "cell_type": "code",
      "execution_count": null,
      "metadata": {
        "id": "cA_wXTxNvJ3t"
      },
      "outputs": [],
      "source": [
        "sns.displot((y_test-predictions), bins=50, kde=True)"
      ]
    },
    {
      "cell_type": "markdown",
      "metadata": {
        "id": "Jx5348V0vJ3t"
      },
      "source": [
        "# Conclusão\n",
        "Respondendo à pergunta inicial, a empresa deve se concentrar no desenvolvimento de aplicativos móveis ou de sites? Ou talvez isso realmente não importe, e o tempo como membro é o que é realmente importante?"
      ]
    },
    {
      "cell_type": "code",
      "execution_count": null,
      "metadata": {
        "id": "uElVrRdvvJ3t"
      },
      "outputs": [],
      "source": [
        "coeffecients = pd.DataFrame(lm.coef_,X.columns)\n",
        "coeffecients.columns = ['Coeffecient']\n",
        "coeffecients"
      ]
    },
    {
      "cell_type": "markdown",
      "metadata": {
        "id": "0nNuB1fwvJ3t"
      },
      "source": [
        "**Interpretação geral dos coeficientes**"
      ]
    },
    {
      "cell_type": "markdown",
      "metadata": {
        "id": "r9PmVRhEvJ3t"
      },
      "source": [
        "Interpretando os coeficientes:\n",
        "\n",
        "**Mantendo todos as outras variáveis constantes**, um aumento de 1 unidade na média de tempo de uso está associado a um aumento de 25,98 dólares totais gastos.\n",
        "\n",
        "**Mantendo todos as outras variáveis constantes**, um aumento de 1 unidade no tempo gasto no App está associado a um aumento de 38,59 dólares totais gastos.\n",
        "\n",
        "**Mantendo todos as outras variáveis constantes**, um aumento de 1 unidade no tempo no site está associado a um aumento de 0,19 dólares em dólares.\n",
        "\n",
        "**Mantendo todos as outras variáveis constantes**, um aumento de 1 unidade no tempo de Associação está associado a um aumento de 61,27 dólares em dólares."
      ]
    },
    {
      "cell_type": "markdown",
      "metadata": {
        "id": "mtMMHa9KvJ3u"
      },
      "source": [
        "**Primeiramente, a empresa deveria arranjar formas de fidelizar seu cliente, já que essa é a variável que mais influenciam os gastos dos seus usuários. Mas falando Entre site e aplicativo, o melhor é investir no aplicavo, dado que o mesmo apresenta um coeficiente significativamente maior do que o site.**"
      ]
    }
  ],
  "metadata": {
    "kernelspec": {
      "display_name": "Python 3 (ipykernel)",
      "language": "python",
      "name": "python3"
    },
    "language_info": {
      "codemirror_mode": {
        "name": "ipython",
        "version": 3
      },
      "file_extension": ".py",
      "mimetype": "text/x-python",
      "name": "python",
      "nbconvert_exporter": "python",
      "pygments_lexer": "ipython3",
      "version": "3.12.4"
    },
    "colab": {
      "provenance": [],
      "include_colab_link": true
    }
  },
  "nbformat": 4,
  "nbformat_minor": 0
}